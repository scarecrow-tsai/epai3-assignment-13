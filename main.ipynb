{
 "cells": [
  {
   "cell_type": "markdown",
   "metadata": {},
   "source": [
    "# Assignment 13"
   ]
  },
  {
   "cell_type": "code",
   "execution_count": 1,
   "metadata": {},
   "outputs": [],
   "source": [
    "from collections import namedtuple\n",
    "from datetime import datetime\n",
    "from dateutil import parser"
   ]
  },
  {
   "cell_type": "code",
   "execution_count": 2,
   "metadata": {},
   "outputs": [],
   "source": [
    "data_tuple = namedtuple(\"data_tuple\", \"Summons_Number Plate_ID Registration_State Plate_Type Issue_Date Violation_Code Vehicle_Body_Type Vehicle_Make Violation_Description\")"
   ]
  },
  {
   "cell_type": "code",
   "execution_count": 3,
   "metadata": {},
   "outputs": [],
   "source": [
    "file_path = \"nyc_parking_tickets_extract.csv\""
   ]
  },
  {
   "cell_type": "markdown",
   "metadata": {},
   "source": [
    "## Goal 1"
   ]
  },
  {
   "cell_type": "code",
   "execution_count": 4,
   "metadata": {},
   "outputs": [],
   "source": [
    "def read_file(path):\n",
    "    with open(path) as f:\n",
    "        for i,j in enumerate(f):\n",
    "            if i == 0:\n",
    "                continue            \n",
    "            li = j.strip(\"\\n\").split(\",\")\n",
    "            li[4] = datetime.strptime(li[4], '%m/%d/%Y').date()\n",
    "            li[5] = int(li[5])\n",
    "            \n",
    "            try:\n",
    "                yield data_tuple(*li)\n",
    "            except:\n",
    "                pass"
   ]
  },
  {
   "cell_type": "code",
   "execution_count": 5,
   "metadata": {},
   "outputs": [],
   "source": [
    "file_tuples = read_file(file_path)"
   ]
  },
  {
   "cell_type": "code",
   "execution_count": 6,
   "metadata": {},
   "outputs": [
    {
     "data": {
      "text/plain": [
       "data_tuple(Summons_Number='4006478550', Plate_ID='VAD7274', Registration_State='VA', Plate_Type='PAS', Issue_Date=datetime.date(2016, 10, 5), Violation_Code=5, Vehicle_Body_Type='4D', Vehicle_Make='BMW', Violation_Description='BUS LANE VIOLATION')"
      ]
     },
     "execution_count": 6,
     "metadata": {},
     "output_type": "execute_result"
    }
   ],
   "source": [
    "next(file_tuples)"
   ]
  },
  {
   "cell_type": "code",
   "execution_count": 7,
   "metadata": {},
   "outputs": [
    {
     "data": {
      "text/plain": [
       "data_tuple(Summons_Number='4006462396', Plate_ID='22834JK', Registration_State='NY', Plate_Type='COM', Issue_Date=datetime.date(2016, 9, 30), Violation_Code=5, Vehicle_Body_Type='VAN', Vehicle_Make='CHEVR', Violation_Description='BUS LANE VIOLATION')"
      ]
     },
     "execution_count": 7,
     "metadata": {},
     "output_type": "execute_result"
    }
   ],
   "source": [
    "next(file_tuples)"
   ]
  },
  {
   "cell_type": "code",
   "execution_count": 8,
   "metadata": {},
   "outputs": [
    {
     "data": {
      "text/plain": [
       "data_tuple(Summons_Number='4007117810', Plate_ID='21791MG', Registration_State='NY', Plate_Type='COM', Issue_Date=datetime.date(2017, 4, 10), Violation_Code=5, Vehicle_Body_Type='VAN', Vehicle_Make='DODGE', Violation_Description='BUS LANE VIOLATION')"
      ]
     },
     "execution_count": 8,
     "metadata": {},
     "output_type": "execute_result"
    }
   ],
   "source": [
    "next(file_tuples)"
   ]
  },
  {
   "cell_type": "code",
   "execution_count": 9,
   "metadata": {},
   "outputs": [
    {
     "data": {
      "text/plain": [
       "data_tuple(Summons_Number='4006265037', Plate_ID='FZX9232', Registration_State='NY', Plate_Type='PAS', Issue_Date=datetime.date(2016, 8, 23), Violation_Code=5, Vehicle_Body_Type='SUBN', Vehicle_Make='FORD', Violation_Description='BUS LANE VIOLATION')"
      ]
     },
     "execution_count": 9,
     "metadata": {},
     "output_type": "execute_result"
    }
   ],
   "source": [
    "next(file_tuples)"
   ]
  },
  {
   "cell_type": "markdown",
   "metadata": {},
   "source": [
    "## Goal 2"
   ]
  },
  {
   "cell_type": "code",
   "execution_count": 13,
   "metadata": {},
   "outputs": [],
   "source": [
    "file_tuples = read_file(file_path)\n",
    "count_dict = dict()"
   ]
  },
  {
   "cell_type": "code",
   "execution_count": 11,
   "metadata": {},
   "outputs": [],
   "source": [
    "for i in file_tuples:\n",
    "    brand = i.Vehicle_Make\n",
    "    if brand not in count_dict:\n",
    "        count_dict[brand] = 0\n",
    "    count_dict[brand] += 1"
   ]
  },
  {
   "cell_type": "code",
   "execution_count": 12,
   "metadata": {},
   "outputs": [
    {
     "data": {
      "text/plain": [
       "{'BMW': 34,\n",
       " 'CHEVR': 76,\n",
       " 'DODGE': 45,\n",
       " 'FORD': 104,\n",
       " 'FRUEH': 44,\n",
       " 'HONDA': 106,\n",
       " 'LINCO': 12,\n",
       " 'TOYOT': 112,\n",
       " 'CADIL': 9,\n",
       " 'CHRYS': 12,\n",
       " 'FIR': 1,\n",
       " 'GMC': 35,\n",
       " 'HYUND': 35,\n",
       " 'JAGUA': 3,\n",
       " 'JEEP': 22,\n",
       " 'LEXUS': 26,\n",
       " 'ME/BE': 38,\n",
       " 'MERCU': 4,\n",
       " 'MITSU': 11,\n",
       " 'NISSA': 70,\n",
       " 'HIN': 6,\n",
       " 'NS/OT': 18,\n",
       " 'WORKH': 2,\n",
       " 'ACURA': 12,\n",
       " 'AUDI': 12,\n",
       " 'INTER': 24,\n",
       " 'ISUZU': 10,\n",
       " 'KENWO': 5,\n",
       " 'KIA': 8,\n",
       " 'OLDSM': 1,\n",
       " 'SUBAR': 18,\n",
       " 'VOLVO': 12,\n",
       " 'SATUR': 2,\n",
       " 'SMART': 3,\n",
       " 'INFIN': 13,\n",
       " 'PETER': 1,\n",
       " '': 5,\n",
       " 'CITRO': 1,\n",
       " 'ROVER': 5,\n",
       " 'BUICK': 5,\n",
       " 'GEO': 1,\n",
       " 'MAZDA': 5,\n",
       " 'PORSC': 3,\n",
       " 'VOLKS': 8,\n",
       " 'YAMAH': 1,\n",
       " 'BSA': 1,\n",
       " 'MINI': 1,\n",
       " 'PONTI': 1,\n",
       " 'SPRI': 1,\n",
       " 'PLYMO': 1,\n",
       " 'SCION': 2,\n",
       " 'UPS': 1,\n",
       " 'FIAT': 1,\n",
       " 'UD': 1,\n",
       " 'UTILI': 1,\n",
       " 'GMCQ': 1,\n",
       " 'SAAB': 2,\n",
       " 'HINO': 2,\n",
       " 'STAR': 1,\n",
       " 'AM/T': 1,\n",
       " 'MI/F': 1}"
      ]
     },
     "execution_count": 12,
     "metadata": {},
     "output_type": "execute_result"
    }
   ],
   "source": [
    "count_dict"
   ]
  }
 ],
 "metadata": {
  "kernelspec": {
   "display_name": "Python 3",
   "language": "python",
   "name": "python3"
  },
  "language_info": {
   "codemirror_mode": {
    "name": "ipython",
    "version": 3
   },
   "file_extension": ".py",
   "mimetype": "text/x-python",
   "name": "python",
   "nbconvert_exporter": "python",
   "pygments_lexer": "ipython3",
   "version": "3.9.5"
  }
 },
 "nbformat": 4,
 "nbformat_minor": 4
}
